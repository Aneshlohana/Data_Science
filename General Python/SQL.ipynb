{
 "cells": [
  {
   "cell_type": "markdown",
   "id": "8b26ea34",
   "metadata": {},
   "source": [
    "# SQL LANGUAGE --- sequel / SQL\n",
    "\n",
    "- Standard query language for relational database management system  and data manipulation\n",
    "- Write query against database , Retrive data from big data , insert records , Update and modify data.\n",
    "- Non-procedural language.\n",
    "- Used for communicate with database.\n",
    "- RDBMS examples MySQL , PostgreSQL , SQL Server , Oracle , Microsoft Access etc \n",
    "\n"
   ]
  },
  {
   "cell_type": "markdown",
   "id": "0000921e",
   "metadata": {},
   "source": [
    "## Steps to database\n",
    "\n",
    "- Open cmd\n",
    "- mysql -u root -p\n",
    "- show databases;\n",
    "- CREATE database deewandb;\n",
    "- for use --- USE deewandb;"
   ]
  },
  {
   "cell_type": "code",
   "execution_count": null,
   "id": "71fa46ed",
   "metadata": {},
   "outputs": [],
   "source": []
  }
 ],
 "metadata": {
  "kernelspec": {
   "display_name": "Python 3 (ipykernel)",
   "language": "python",
   "name": "python3"
  },
  "language_info": {
   "codemirror_mode": {
    "name": "ipython",
    "version": 3
   },
   "file_extension": ".py",
   "mimetype": "text/x-python",
   "name": "python",
   "nbconvert_exporter": "python",
   "pygments_lexer": "ipython3",
   "version": "3.9.12"
  }
 },
 "nbformat": 4,
 "nbformat_minor": 5
}
