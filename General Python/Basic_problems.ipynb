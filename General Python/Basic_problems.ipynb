{
 "cells": [
  {
   "cell_type": "markdown",
   "id": "29032cf6",
   "metadata": {},
   "source": [
    "## Basic Problems\n"
   ]
  },
  {
   "cell_type": "markdown",
   "id": "f45e991b",
   "metadata": {},
   "source": [
    "The population of a town is 198568. Out of them 45312 are men and 35678 are women. Find the number of children in the town."
   ]
  },
  {
   "cell_type": "code",
   "execution_count": 4,
   "id": "2434ad53",
   "metadata": {},
   "outputs": [
    {
     "name": "stdout",
     "output_type": "stream",
     "text": [
      "117578\n"
     ]
    }
   ],
   "source": [
    "pop = 198568\n",
    "men = 45312\n",
    "women = 35678\n",
    "child = pop - (men + women)\n",
    "print(child)"
   ]
  },
  {
   "cell_type": "markdown",
   "id": "1d1a2185",
   "metadata": {},
   "source": [
    "A shopkeeper has 2425 boxes of 24 pencils each. How many pencils do all the boxes have in all?"
   ]
  },
  {
   "cell_type": "code",
   "execution_count": 5,
   "id": "025144d6",
   "metadata": {},
   "outputs": [
    {
     "name": "stdout",
     "output_type": "stream",
     "text": [
      "58200\n"
     ]
    }
   ],
   "source": [
    "x = 2425 * 24\n",
    "print(x)"
   ]
  },
  {
   "cell_type": "markdown",
   "id": "3e6197af",
   "metadata": {},
   "source": [
    "Linda bought a coat for $2265  and a saree for $2150. She gave $5000 to the shopkeeper. \n",
    "How much money did the shopkeeper return to her?"
   ]
  },
  {
   "cell_type": "code",
   "execution_count": 9,
   "id": "a71e9df9",
   "metadata": {},
   "outputs": [
    {
     "name": "stdout",
     "output_type": "stream",
     "text": [
      "585\n"
     ]
    }
   ],
   "source": [
    "shirt = 2265\n",
    "saree = 2150\n",
    "pay = 5000\n",
    "print(pay - (shirt + saree))"
   ]
  },
  {
   "cell_type": "markdown",
   "id": "648f3b4e",
   "metadata": {},
   "source": [
    "The cost of 21 TV sets is $95844. Find the cost of one TV set."
   ]
  },
  {
   "cell_type": "code",
   "execution_count": 10,
   "id": "b638d5e4",
   "metadata": {},
   "outputs": [
    {
     "name": "stdout",
     "output_type": "stream",
     "text": [
      "4564.0\n"
     ]
    }
   ],
   "source": [
    "tv = 95844\n",
    "total =21\n",
    "x= tv / total\n",
    "print(x)"
   ]
  },
  {
   "cell_type": "markdown",
   "id": "b90dde91",
   "metadata": {},
   "source": [
    "A factory produces 24532 bulbs in a month. What is its annual production?"
   ]
  },
  {
   "cell_type": "code",
   "execution_count": 11,
   "id": "43103a9e",
   "metadata": {},
   "outputs": [
    {
     "name": "stdout",
     "output_type": "stream",
     "text": [
      "294384\n"
     ]
    }
   ],
   "source": [
    "x=24532*12\n",
    "print(x)"
   ]
  },
  {
   "cell_type": "markdown",
   "id": "cc36e104",
   "metadata": {},
   "source": [
    "****"
   ]
  },
  {
   "cell_type": "markdown",
   "id": "30596eb2",
   "metadata": {},
   "source": [
    "-----"
   ]
  },
  {
   "cell_type": "code",
   "execution_count": 18,
   "id": "53747bda",
   "metadata": {},
   "outputs": [
    {
     "name": "stdout",
     "output_type": "stream",
     "text": [
      "The number 13 is odd.\n"
     ]
    }
   ],
   "source": [
    "a_number = 13\n",
    "\n",
    "if a_number % 2 == 0:\n",
    "    parity = 'even'\n",
    "else:\n",
    "    pa = 'odd'\n",
    "\n",
    "print('The number {} is {}.'.format(a_number, pa))"
   ]
  },
  {
   "cell_type": "code",
   "execution_count": null,
   "id": "b7e95d00",
   "metadata": {},
   "outputs": [],
   "source": [
    "# if statements cannot be empty, there must be at least one statement in every if and elif block.\n",
    "# You can use the pass statement to do nothing and avoid getting an error.\n",
    "if a_number % 2 == 0:\n",
    "    pass\n",
    "elif a_number % 3 == 0:\n",
    "    print('{} is divisible by 3 but not divisible by 2'.format(a_number))"
   ]
  }
 ],
 "metadata": {
  "kernelspec": {
   "display_name": "Python 3 (ipykernel)",
   "language": "python",
   "name": "python3"
  },
  "language_info": {
   "codemirror_mode": {
    "name": "ipython",
    "version": 3
   },
   "file_extension": ".py",
   "mimetype": "text/x-python",
   "name": "python",
   "nbconvert_exporter": "python",
   "pygments_lexer": "ipython3",
   "version": "3.9.12"
  }
 },
 "nbformat": 4,
 "nbformat_minor": 5
}
