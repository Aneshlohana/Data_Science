{
 "cells": [
  {
   "cell_type": "code",
   "execution_count": 2,
   "id": "3d841bcd",
   "metadata": {},
   "outputs": [
    {
     "name": "stdout",
     "output_type": "stream",
     "text": [
      "2401\n"
     ]
    }
   ],
   "source": [
    "print(7**4)"
   ]
  },
  {
   "cell_type": "code",
   "execution_count": 7,
   "id": "dec3731b",
   "metadata": {},
   "outputs": [
    {
     "name": "stdout",
     "output_type": "stream",
     "text": [
      "['Hi', 'there', 'me!']\n"
     ]
    }
   ],
   "source": [
    " x = 'Hi there me!'\n",
    " print(x.split())   "
   ]
  },
  {
   "cell_type": "code",
   "execution_count": 10,
   "id": "c2d7f6a0",
   "metadata": {},
   "outputs": [
    {
     "name": "stdout",
     "output_type": "stream",
     "text": [
      "The diameter of Earth is 12742 Kilometer \n"
     ]
    }
   ],
   "source": [
    "planet = 'Earth'\n",
    "diameter = 12742\n",
    "print(\"The diameter of Earth is {one} Kilometer \".format(one=diameter))"
   ]
  },
  {
   "cell_type": "code",
   "execution_count": 14,
   "id": "8e3a2125",
   "metadata": {},
   "outputs": [
    {
     "data": {
      "text/plain": [
       "'hello'"
      ]
     },
     "execution_count": 14,
     "metadata": {},
     "output_type": "execute_result"
    }
   ],
   "source": [
    "lst = [1,2,[3,4],[5,[100,200,['hello']],23,11],1,7]\n",
    "# find the index or output hello\n",
    "lst[3][1][2][0]"
   ]
  },
  {
   "cell_type": "code",
   "execution_count": 21,
   "id": "131e580d",
   "metadata": {},
   "outputs": [
    {
     "data": {
      "text/plain": [
       "'hello'"
      ]
     },
     "execution_count": 21,
     "metadata": {},
     "output_type": "execute_result"
    }
   ],
   "source": [
    "d = {'k1':[1,2,3,{'tricky':['oh','man','inception',{'target':[1,2,3,'hello']}]}]}\n",
    "# find hello word;\n",
    "d['k1'][3]['tricky'][3]['target'][3]"
   ]
  },
  {
   "cell_type": "code",
   "execution_count": 29,
   "id": "c6cd6653",
   "metadata": {},
   "outputs": [],
   "source": [
    "def count(str):\n",
    "    co=0\n",
    "    for word in str.lower().split():\n",
    "        if word == 'dog':\n",
    "            co+=1\n",
    "            \n",
    "    return co"
   ]
  },
  {
   "cell_type": "code",
   "execution_count": 30,
   "id": "c2f0408d",
   "metadata": {},
   "outputs": [
    {
     "data": {
      "text/plain": [
       "1"
      ]
     },
     "execution_count": 30,
     "metadata": {},
     "output_type": "execute_result"
    }
   ],
   "source": [
    "count('The dog runs very fast')"
   ]
  },
  {
   "cell_type": "code",
   "execution_count": 38,
   "id": "2c91d663",
   "metadata": {},
   "outputs": [
    {
     "data": {
      "text/plain": [
       "['soup', 'salad']"
      ]
     },
     "execution_count": 38,
     "metadata": {},
     "output_type": "execute_result"
    }
   ],
   "source": [
    "seq = ['soup','dog','salad','cat','great']\n",
    "list(filter(lambda var:var[0]=='s',seq))\n",
    "\n",
    "\n"
   ]
  },
  {
   "cell_type": "markdown",
   "id": "9e4521b4",
   "metadata": {},
   "source": [
    "# Final Problem\n",
    "**You are driving a little too fast, and a police officer stops you. Write a function\n",
    "  to return one of 3 possible results: \"No ticket\", \"Small ticket\", or \"Big Ticket\". \n",
    "  If your speed is 60 or less, the result is \"No Ticket\". If speed is between 61 \n",
    "  and 80 inclusive, the result is \"Small Ticket\". If speed is 81 or more, the result is \"Big    Ticket\". Unless it is your birthday (encoded as a boolean value in the parameters of the function) -- on your birthday, your speed can be 5 higher in all \n",
    "  cases. **"
   ]
  },
  {
   "cell_type": "code",
   "execution_count": 43,
   "id": "25eba5e7",
   "metadata": {},
   "outputs": [],
   "source": [
    "def speeds(speed,BDY):\n",
    "    if BDY:\n",
    "        Speeding = speed + 5\n",
    "    else:\n",
    "        speeding = speed\n",
    "        \n",
    "    if speed <=60 :\n",
    "        print(\"NO ticket\")\n",
    "    elif speed < 81:\n",
    "        print(\"Small Ticket\")\n",
    "    else:\n",
    "        print(\"Big ticket\")"
   ]
  },
  {
   "cell_type": "code",
   "execution_count": 44,
   "id": "b0759d16",
   "metadata": {},
   "outputs": [
    {
     "name": "stdout",
     "output_type": "stream",
     "text": [
      "Big ticket\n"
     ]
    }
   ],
   "source": [
    "speeds(81,True)"
   ]
  },
  {
   "cell_type": "code",
   "execution_count": 2,
   "id": "5a22c6ee",
   "metadata": {},
   "outputs": [
    {
     "data": {
      "text/plain": [
       "array([ 1,  2,  3,  4,  5,  6,  7,  8,  9, 10])"
      ]
     },
     "execution_count": 2,
     "metadata": {},
     "output_type": "execute_result"
    }
   ],
   "source": [
    "import numpy as np\n",
    "arr=np.arange(1,11)\n",
    "arr"
   ]
  },
  {
   "cell_type": "code",
   "execution_count": 4,
   "id": "f56e0012",
   "metadata": {},
   "outputs": [
    {
     "name": "stdout",
     "output_type": "stream",
     "text": [
      "Max of Array :10\n",
      "Min of Array :1\n"
     ]
    }
   ],
   "source": [
    "print(\"Max of Array :{}\".format(arr.max()))\n",
    "print(\"Min of Array :{}\".format(arr.min()))\n"
   ]
  },
  {
   "cell_type": "code",
   "execution_count": 9,
   "id": "ab70b83c",
   "metadata": {},
   "outputs": [
    {
     "data": {
      "text/plain": [
       "dtype('int32')"
      ]
     },
     "execution_count": 9,
     "metadata": {},
     "output_type": "execute_result"
    }
   ],
   "source": [
    "arr.dtype"
   ]
  },
  {
   "cell_type": "code",
   "execution_count": 17,
   "id": "e1c65486",
   "metadata": {},
   "outputs": [
    {
     "data": {
      "text/plain": [
       "array([0., 0., 0., 0., 0., 0., 0., 0., 0., 0.])"
      ]
     },
     "execution_count": 17,
     "metadata": {},
     "output_type": "execute_result"
    }
   ],
   "source": [
    "import numpy as np\n",
    "arr = np.zeros(10)\n",
    "arr\n"
   ]
  },
  {
   "cell_type": "code",
   "execution_count": 16,
   "id": "755e975f",
   "metadata": {},
   "outputs": [
    {
     "data": {
      "text/plain": [
       "array([1., 1., 1., 1., 1., 1., 1., 1., 1., 1.])"
      ]
     },
     "execution_count": 16,
     "metadata": {},
     "output_type": "execute_result"
    }
   ],
   "source": [
    "\n",
    "arr1 = np.ones(10)\n",
    "arr1"
   ]
  },
  {
   "cell_type": "code",
   "execution_count": 21,
   "id": "0c2b538a",
   "metadata": {},
   "outputs": [
    {
     "data": {
      "text/plain": [
       "array([5, 5, 5, 5, 5, 5, 5, 5, 5, 5])"
      ]
     },
     "execution_count": 21,
     "metadata": {},
     "output_type": "execute_result"
    }
   ],
   "source": [
    "arr =np.array([5,5,5,5,5,5,5,5,5,5])\n",
    "arr"
   ]
  },
  {
   "cell_type": "code",
   "execution_count": 25,
   "id": "58ce2f0d",
   "metadata": {},
   "outputs": [
    {
     "data": {
      "text/plain": [
       "array([10, 11, 12, 13, 14, 15, 16, 17, 18, 19, 20, 21, 22, 23, 24, 25, 26,\n",
       "       27, 28, 29, 30, 31, 32, 33, 34, 35, 36, 37, 38, 39, 40, 41, 42, 43,\n",
       "       44, 45, 46, 47, 48, 49, 50])"
      ]
     },
     "execution_count": 25,
     "metadata": {},
     "output_type": "execute_result"
    }
   ],
   "source": [
    "arr = np.arange(10,51)\n",
    "arr"
   ]
  },
  {
   "cell_type": "code",
   "execution_count": 26,
   "id": "729a3369",
   "metadata": {},
   "outputs": [
    {
     "data": {
      "text/plain": [
       "array([10, 12, 14, 16, 18, 20, 22, 24, 26, 28, 30, 32, 34, 36, 38, 40, 42,\n",
       "       44, 46, 48, 50])"
      ]
     },
     "execution_count": 26,
     "metadata": {},
     "output_type": "execute_result"
    }
   ],
   "source": [
    "arr = np.arange(10,51,2)\n",
    "arr"
   ]
  },
  {
   "cell_type": "code",
   "execution_count": 32,
   "id": "42a957a2",
   "metadata": {},
   "outputs": [
    {
     "data": {
      "text/plain": [
       "array([[0, 1, 2],\n",
       "       [3, 4, 5],\n",
       "       [6, 7, 8]])"
      ]
     },
     "execution_count": 32,
     "metadata": {},
     "output_type": "execute_result"
    }
   ],
   "source": [
    "arr = np.arange(9)\n",
    "arr.reshape(3,3)"
   ]
  },
  {
   "cell_type": "code",
   "execution_count": 34,
   "id": "6b800a61",
   "metadata": {},
   "outputs": [
    {
     "data": {
      "text/plain": [
       "array([[1., 0., 0.],\n",
       "       [0., 1., 0.],\n",
       "       [0., 0., 1.]])"
      ]
     },
     "execution_count": 34,
     "metadata": {},
     "output_type": "execute_result"
    }
   ],
   "source": [
    "arr = np.eye(3)\n",
    "arr\n"
   ]
  },
  {
   "cell_type": "code",
   "execution_count": 36,
   "id": "fd3ae82b",
   "metadata": {},
   "outputs": [
    {
     "data": {
      "text/plain": [
       "array([0.32680765, 0.21388179])"
      ]
     },
     "execution_count": 36,
     "metadata": {},
     "output_type": "execute_result"
    }
   ],
   "source": [
    "arr = np.random.rand(2)\n",
    "arr\n"
   ]
  },
  {
   "cell_type": "code",
   "execution_count": 1,
   "id": "08557747",
   "metadata": {},
   "outputs": [
    {
     "data": {
      "text/plain": [
       "8"
      ]
     },
     "execution_count": 1,
     "metadata": {},
     "output_type": "execute_result"
    }
   ],
   "source": [
    "abc = lambda x,y: x**y\n",
    "abc(2,3)"
   ]
  },
  {
   "cell_type": "code",
   "execution_count": 2,
   "id": "9d072f18",
   "metadata": {},
   "outputs": [
    {
     "name": "stdout",
     "output_type": "stream",
     "text": [
      "[4, 16, 36, 64]\n"
     ]
    }
   ],
   "source": [
    "#  map(func,seq)\n",
    "x = [2,4,6,8]\n",
    "xy = map(lambda x: x**2,x)\n",
    "print(list(xy))"
   ]
  },
  {
   "cell_type": "code",
   "execution_count": 5,
   "id": "4be4635f",
   "metadata": {},
   "outputs": [],
   "source": [
    "import seaborn as sns \n",
    "kashti = sns.load_dataset('titanic')\n",
    "kashti.to_csv('kashti.csv')\n",
    "# online loading data in csv file"
   ]
  },
  {
   "cell_type": "code",
   "execution_count": 6,
   "id": "98deae66",
   "metadata": {},
   "outputs": [
    {
     "data": {
      "text/plain": [
       "'Z'"
      ]
     },
     "execution_count": 6,
     "metadata": {},
     "output_type": "execute_result"
    }
   ],
   "source": [
    "word = 'Zealand'\n",
    "it = iter(word)\n",
    "next(it)"
   ]
  },
  {
   "cell_type": "code",
   "execution_count": 7,
   "id": "97dbbfeb",
   "metadata": {},
   "outputs": [
    {
     "data": {
      "text/plain": [
       "'e'"
      ]
     },
     "execution_count": 7,
     "metadata": {},
     "output_type": "execute_result"
    }
   ],
   "source": [
    "next(it)"
   ]
  },
  {
   "cell_type": "code",
   "execution_count": 8,
   "id": "918e0a45",
   "metadata": {},
   "outputs": [
    {
     "data": {
      "text/plain": [
       "'a'"
      ]
     },
     "execution_count": 8,
     "metadata": {},
     "output_type": "execute_result"
    }
   ],
   "source": [
    "next(it)"
   ]
  },
  {
   "cell_type": "code",
   "execution_count": 9,
   "id": "713f08c4",
   "metadata": {},
   "outputs": [
    {
     "data": {
      "text/plain": [
       "'l'"
      ]
     },
     "execution_count": 9,
     "metadata": {},
     "output_type": "execute_result"
    }
   ],
   "source": [
    "next(it)"
   ]
  },
  {
   "cell_type": "code",
   "execution_count": 10,
   "id": "306508f0",
   "metadata": {},
   "outputs": [
    {
     "data": {
      "text/plain": [
       "'a'"
      ]
     },
     "execution_count": 10,
     "metadata": {},
     "output_type": "execute_result"
    }
   ],
   "source": [
    "next(it)"
   ]
  },
  {
   "cell_type": "code",
   "execution_count": 11,
   "id": "fd954a1e",
   "metadata": {},
   "outputs": [
    {
     "data": {
      "text/plain": [
       "'n'"
      ]
     },
     "execution_count": 11,
     "metadata": {},
     "output_type": "execute_result"
    }
   ],
   "source": [
    "next(it)"
   ]
  },
  {
   "cell_type": "code",
   "execution_count": 12,
   "id": "8dd4a855",
   "metadata": {},
   "outputs": [
    {
     "data": {
      "text/plain": [
       "'d'"
      ]
     },
     "execution_count": 12,
     "metadata": {},
     "output_type": "execute_result"
    }
   ],
   "source": [
    "next(it)\n",
    "# next will print one by one "
   ]
  },
  {
   "cell_type": "code",
   "execution_count": 16,
   "id": "c10dd863",
   "metadata": {},
   "outputs": [
    {
     "name": "stdout",
     "output_type": "stream",
     "text": [
      "D a t a C a m p\n"
     ]
    }
   ],
   "source": [
    "words = 'DataCamp'\n",
    "its = iter(words)\n",
    "#  iterate will iterate the var\n",
    "print(*its)\n",
    "# * will print whole string"
   ]
  },
  {
   "cell_type": "code",
   "execution_count": 17,
   "id": "5583b2b4",
   "metadata": {},
   "outputs": [
    {
     "name": "stdout",
     "output_type": "stream",
     "text": [
      "[(0, 'Meet'), (1, 'me'), (2, 'soon'), (3, 'please')]\n"
     ]
    }
   ],
   "source": [
    "level = ['Meet','me','soon','please']\n",
    "e = list(enumerate(level))\n",
    "print(e)"
   ]
  },
  {
   "cell_type": "code",
   "execution_count": 18,
   "id": "c4e154a4",
   "metadata": {},
   "outputs": [
    {
     "data": {
      "text/plain": [
       "[('1', 'a'), ('2', 'b'), ('3', 'c'), ('4', 'd')]"
      ]
     },
     "execution_count": 18,
     "metadata": {},
     "output_type": "execute_result"
    }
   ],
   "source": [
    "a = ['1','2','3','4']\n",
    "b = ['a','b','c','d']\n",
    "c = list(zip(a,b))\n",
    "c"
   ]
  },
  {
   "cell_type": "code",
   "execution_count": 1,
   "id": "cd76e448",
   "metadata": {},
   "outputs": [
    {
     "name": "stdout",
     "output_type": "stream",
     "text": [
      "My name is Anesh kumar \n"
     ]
    }
   ],
   "source": [
    "#  Reading of the file \n",
    "# file_name = 'anesh.txt'\n",
    "file = open('anesh.txt', mode='r')\n",
    "text = file.read()\n",
    "file.close()\n",
    "print(text)"
   ]
  },
  {
   "cell_type": "code",
   "execution_count": 2,
   "id": "81573e7a",
   "metadata": {},
   "outputs": [],
   "source": [
    "# Writting in the file \n",
    "# file_name = 'anesh.txt'\n",
    "file = open('anesh.txt', mode='w')\n",
    "file.close()"
   ]
  },
  {
   "cell_type": "code",
   "execution_count": 5,
   "id": "01d5c991",
   "metadata": {},
   "outputs": [
    {
     "name": "stdout",
     "output_type": "stream",
     "text": [
      "\n"
     ]
    }
   ],
   "source": [
    "with open('anesh.txt', 'r') as f:\n",
    "    print(f.read())\n"
   ]
  },
  {
   "cell_type": "code",
   "execution_count": null,
   "id": "a2f474c5",
   "metadata": {},
   "outputs": [],
   "source": [
    "# pd.ExcelFile()\n",
    "\n",
    "# Import sas7bdat package\n",
    "#from sas7bdat import SAS7BDAT\n",
    "\n",
    "# Save file to a DataFrame: df_sas\n",
    "#with SAS7BDAT('sales.sas7bdat') as file:\n",
    "#   df_sas = file.to_data_frame()\n",
    "\n",
    "# Print head of DataFrame\n",
    "#print(df_sas.head())\n",
    "\n",
    "# Plot histograms of a DataFrame feature (pandas and pyplot already imported)\n",
    "#pd.DataFrame.hist(df_sas[['P']])\n",
    "#plt.ylabel('count')\n",
    "#plt.show()"
   ]
  },
  {
   "cell_type": "code",
   "execution_count": null,
   "id": "443e49b3",
   "metadata": {},
   "outputs": [],
   "source": [
    "# Import pandas\n",
    "#import pandas as pd\n",
    "\n",
    "# Load Stata file into a pandas DataFrame: df\n",
    "#df = pd.read_stata('disarea.dta')\n",
    "\n",
    "# Print the head of the DataFrame df\n",
    "#print(df.head())\n",
    "\n",
    "# Plot histogram of one column of the DataFrame\n",
    "#pd.DataFrame.hist(df[['disa10']])\n",
    "#plt.xlabel('Extent of disease')\n",
    "#plt.ylabel('Number of countries')\n",
    "#plt.show()"
   ]
  },
  {
   "cell_type": "code",
   "execution_count": null,
   "id": "9d985f28",
   "metadata": {},
   "outputs": [],
   "source": [
    "# Import packages\n",
    "#import numpy as np\n",
    "#import h5py\n",
    "\n",
    "# Assign filename: file\n",
    "#file = 'LIGO_data.hdf5'\n",
    "\n",
    "# Load file: data\n",
    "#data = h5py.File(file, 'r')\n",
    "\n",
    "# Print the datatype of the loaded file\n",
    "#print(type(data))\n",
    "\n",
    "# Print the keys of the file\n",
    "#for key in data.keys():\n",
    "#   print(key)\n"
   ]
  },
  {
   "cell_type": "code",
   "execution_count": null,
   "id": "14c0d5f1",
   "metadata": {},
   "outputs": [],
   "source": [
    "# import MATLAB \n",
    "# Matrix laboratory\n",
    "#scipy.io.loadmat() ---> read files\n",
    "#scipy.io.savemat() ---> write files\n",
    "\n",
    "# Import packag#e\n",
    "#import scipy.io\n",
    "\n",
    "# Load MATLAB file: mat\n",
    "#mat = scipy.io.loadmat('albeck_gene_expression.mat')\n",
    "\n",
    "# Print the datatype type of mat\n",
    "#print(type(mat))\n"
   ]
  },
  {
   "cell_type": "code",
   "execution_count": null,
   "id": "2fd13f95",
   "metadata": {},
   "outputs": [],
   "source": [
    "# Import necessary module\n",
    "#from sqlalchemy import create_engine\n",
    "\n",
    "# Create engine: engine\n",
    "#engine = create_engine('sqlite:///Chinook.sqlite')\n",
    "\n",
    "# Save the table names to a list: table_names\n",
    "#table_names = engine.table_names()\n",
    "\n",
    "# Print the table names to the shell\n",
    "#print(table_names)\n"
   ]
  },
  {
   "cell_type": "code",
   "execution_count": null,
   "id": "be7899e2",
   "metadata": {},
   "outputs": [],
   "source": [
    "# Import packages\n",
    "#from sqlalchemy import create_engine\n",
    "#import pandas as pd\n",
    "\n",
    "# Create engine: engine\n",
    "#engine = create_engine('sqlite:///Chinook.sqlite')\n",
    "\n",
    "# Open engine connection\n",
    "#con = engine.connect()\n",
    "\n",
    "# Perform query: rs\n",
    "#rs = con.execute(\"SELECT * FROM Album\")\n",
    "\n",
    "# Save results of the query to DataFrame: df\n",
    "#df = pd.DataFrame(rs.fetchall())\n",
    "\n",
    "# Close connection\n",
    "#con.close()\n",
    "\n",
    "# Print head of DataFrame df\n",
    "#print(df.head())\n"
   ]
  },
  {
   "cell_type": "code",
   "execution_count": null,
   "id": "70614e69",
   "metadata": {},
   "outputs": [],
   "source": [
    "# Import packages\n",
    "#from sqlalchemy import create_engine\n",
    "#import pandas as pd\n",
    "\n",
    "# Create engine: engine\n",
    "#engine = create_engine('sqlite:///Chinook.sqlite')\n",
    "\n",
    "# Execute query and store records in DataFrame: df\n",
    "#df = pd.read_sql_query(\"SELECT * FROM Album\", engine)\n",
    "\n",
    "# Print head of DataFrame\n",
    "#print(df.head())\n",
    "\n"
   ]
  },
  {
   "cell_type": "code",
   "execution_count": null,
   "id": "0ab1231f",
   "metadata": {},
   "outputs": [],
   "source": [
    "# Import package\n",
    "#from urllib.request import urlretrieve\n",
    "\n",
    "# Import pandas\n",
    "# import pandas as \n",
    "\n",
    "# Assign url of file: url\n",
    "#url = 'https://assets.datacamp.com/production/course_1606/datasets/winequality-red.csv'\n",
    "\n",
    "# Save file locally\n",
    "#urlretrieve(url, 'winequality-red.csv')\n",
    "\n",
    "# Read file into a DataFrame and print its head\n",
    "#df = pd.read_csv('winequality-red.csv', sep=';')\n",
    "#print(df.head())"
   ]
  },
  {
   "cell_type": "code",
   "execution_count": 6,
   "id": "3b45bf86",
   "metadata": {},
   "outputs": [],
   "source": [
    "# URL\n",
    "# uniform/universal resource locator focus on web resources\n",
    "# HTTP\n",
    "# Hypertext transfer protocol \n",
    "# HTTPS secure form of HTTP\n",
    "\n",
    "# Import packages\n",
    "#from urllib.request import urlopen, Request\n",
    "\n",
    "# Specify the url\n",
    "#url = \"https://campus.datacamp.com/courses/1606/4135?ex=2\"\n",
    "\n",
    "# This packages the request: request\n",
    "#request = Request(url)\n",
    "\n",
    "# Sends the request and catches the response: response\n",
    "#response = urlopen(request)\n",
    "\n",
    "# Print the datatype of response\n",
    "#print(type(response))\n",
    "\n",
    "# Be polite and close the response!\n",
    "#response.close()\n",
    "\n"
   ]
  },
  {
   "cell_type": "code",
   "execution_count": null,
   "id": "4259f332",
   "metadata": {},
   "outputs": [],
   "source": [
    "# API ----> Application programming interface , building and interacting of software application\n",
    "# JSON ---> Javascript object notation real time server to browser communication"
   ]
  }
 ],
 "metadata": {
  "kernelspec": {
   "display_name": "Python 3 (ipykernel)",
   "language": "python",
   "name": "python3"
  },
  "language_info": {
   "codemirror_mode": {
    "name": "ipython",
    "version": 3
   },
   "file_extension": ".py",
   "mimetype": "text/x-python",
   "name": "python",
   "nbconvert_exporter": "python",
   "pygments_lexer": "ipython3",
   "version": "3.9.12"
  }
 },
 "nbformat": 4,
 "nbformat_minor": 5
}
