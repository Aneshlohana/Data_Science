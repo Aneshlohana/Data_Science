{
 "cells": [
  {
   "cell_type": "code",
   "execution_count": null,
   "id": "cd06aa1f",
   "metadata": {},
   "outputs": [],
   "source": [
    "from tkinter import *\n",
    "from  tkinter.ttk import *\n",
    "\n",
    "from time import strftime\n",
    "\n",
    "root = Tk()\n",
    "root.title(\"Clock\")\n",
    "\n",
    "def time():\n",
    "    string  = strftime('%H:%M:%S %p')\n",
    "    label.config(text=string)\n",
    "    label.after(1000,time)\n",
    "\n",
    "label = Label(root,font=(\"ds-digital\",80),background = \"black\" , foreground = \"cyan\")    \n",
    "label.pack(anchor='center')    \n",
    "time()\n",
    "\n",
    "mainloop()\n"
   ]
  },
  {
   "cell_type": "code",
   "execution_count": null,
   "id": "09ca4574",
   "metadata": {},
   "outputs": [],
   "source": []
  }
 ],
 "metadata": {
  "kernelspec": {
   "display_name": "Python 3 (ipykernel)",
   "language": "python",
   "name": "python3"
  },
  "language_info": {
   "codemirror_mode": {
    "name": "ipython",
    "version": 3
   },
   "file_extension": ".py",
   "mimetype": "text/x-python",
   "name": "python",
   "nbconvert_exporter": "python",
   "pygments_lexer": "ipython3",
   "version": "3.9.12"
  }
 },
 "nbformat": 4,
 "nbformat_minor": 5
}
