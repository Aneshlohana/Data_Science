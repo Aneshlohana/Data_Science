{
 "cells": [
  {
   "cell_type": "markdown",
   "id": "53fac584",
   "metadata": {},
   "source": [
    "## NUMPY\n",
    "- Package for Scientific Computing\n",
    "- Great for big numerical operations\n",
    "- Prove multidimensional array object ,various denied objects \n",
    "- Consumes less memory , fast and efficient way to create numpy \n",
    "- list contain hetrogenous members while array contains homogenous members\n"
   ]
  },
  {
   "cell_type": "code",
   "execution_count": 1,
   "id": "4b48b395",
   "metadata": {},
   "outputs": [
    {
     "data": {
      "text/plain": [
       "10"
      ]
     },
     "execution_count": 1,
     "metadata": {},
     "output_type": "execute_result"
    }
   ],
   "source": [
    "5+5"
   ]
  },
  {
   "cell_type": "code",
   "execution_count": 2,
   "id": "49c64a7b",
   "metadata": {},
   "outputs": [
    {
     "data": {
      "text/plain": [
       "36"
      ]
     },
     "execution_count": 2,
     "metadata": {},
     "output_type": "execute_result"
    }
   ],
   "source": [
    "6**2"
   ]
  },
  {
   "cell_type": "code",
   "execution_count": 3,
   "id": "63fe9395",
   "metadata": {},
   "outputs": [
    {
     "data": {
      "text/plain": [
       "8"
      ]
     },
     "execution_count": 3,
     "metadata": {},
     "output_type": "execute_result"
    }
   ],
   "source": [
    "a=5\n",
    "b=3\n",
    "c=a+b\n",
    "c"
   ]
  },
  {
   "cell_type": "markdown",
   "id": "c7880415",
   "metadata": {},
   "source": [
    "ARRAY"
   ]
  },
  {
   "cell_type": "code",
   "execution_count": 7,
   "id": "f0267145",
   "metadata": {},
   "outputs": [
    {
     "name": "stdout",
     "output_type": "stream",
     "text": [
      "[1 2 3]\n",
      "<class 'numpy.ndarray'>\n",
      "int32\n",
      "1\n"
     ]
    }
   ],
   "source": [
    "import numpy as np\n",
    "x = np.array([1,2,3])\n",
    "print(x)\n",
    "print(type(x))\n",
    "print(x.dtype)\n",
    "print(x.ndim)\n",
    "# ndim -------> for checking * Dimensional *  \n",
    "# 1-d array is called vector eg assembly line "
   ]
  },
  {
   "cell_type": "code",
   "execution_count": 8,
   "id": "996ff730",
   "metadata": {},
   "outputs": [
    {
     "name": "stdout",
     "output_type": "stream",
     "text": [
      "[['1' '2' '3']\n",
      " ['a' 'b' 'c']]\n",
      "<class 'numpy.ndarray'>\n",
      "<U11\n",
      "2\n"
     ]
    }
   ],
   "source": [
    "import numpy as np  \n",
    "x = np.array([[1,2,3],['a','b','c']])\n",
    "print(x)\n",
    "print(type(x))\n",
    "print(x.dtype)\n",
    "print(x.ndim)\n",
    "# ndim -------> for checking * Dimensional *"
   ]
  },
  {
   "cell_type": "code",
   "execution_count": 6,
   "id": "1e9b57f8",
   "metadata": {},
   "outputs": [
    {
     "name": "stdout",
     "output_type": "stream",
     "text": [
      "[[['1' '2' '3']\n",
      "  ['a' 'b' 'c']\n",
      "  ['4' '5' '6']]\n",
      "\n",
      " [['5' '6' '7']\n",
      "  ['d' 'e' 'f']\n",
      "  ['8' '9' '0']]]\n",
      "<class 'numpy.ndarray'>\n",
      "3\n",
      "<U11\n",
      "(2, 3, 3)\n"
     ]
    }
   ],
   "source": [
    "import numpy as np  \n",
    "x = np.array([[[1,2,3],\n",
    "                ['a','b','c'],\n",
    "              [4,5,6]],\n",
    "              \n",
    "              [[5,6,7],\n",
    "               ['d','e','f'],\n",
    "              [8,9,0]]])\n",
    "print(x)\n",
    "print(type(x))\n",
    "print(x.ndim)\n",
    "print(x.dtype)\n",
    "print(x.shape) \n",
    "# ndim -------> for checking * Dimensional *  \n",
    "# more than 2D is called tensor flow for AI , ML "
   ]
  },
  {
   "cell_type": "code",
   "execution_count": 6,
   "id": "56b9eede",
   "metadata": {},
   "outputs": [
    {
     "name": "stdout",
     "output_type": "stream",
     "text": [
      "[1, 2, 3]\n"
     ]
    }
   ],
   "source": [
    "# list\n",
    "x = [1,2,3]\n",
    "print(x)"
   ]
  },
  {
   "cell_type": "code",
   "execution_count": 11,
   "id": "cf31e380",
   "metadata": {},
   "outputs": [
    {
     "name": "stdout",
     "output_type": "stream",
     "text": [
      "[0 1 2 3]\n",
      "[4 5 6 7]\n",
      "[4 6 8]\n"
     ]
    }
   ],
   "source": [
    "import numpy as anesh\n",
    "x=anesh.arange(4)\n",
    "y=anesh.arange(4,8)\n",
    "z=anesh.arange(4,10,2)\n",
    "print(x)\n",
    "print(y)\n",
    "print(z)"
   ]
  },
  {
   "cell_type": "code",
   "execution_count": 13,
   "id": "5568f25e",
   "metadata": {},
   "outputs": [
    {
     "name": "stdout",
     "output_type": "stream",
     "text": [
      "[[[[[[[[[[1 2]]]]]]]]]]\n"
     ]
    }
   ],
   "source": [
    "a=np.array([1,2],ndmin=10)\n",
    "print(a)"
   ]
  },
  {
   "cell_type": "markdown",
   "id": "480ebbb7",
   "metadata": {},
   "source": [
    "### Statistical operation with array"
   ]
  },
  {
   "cell_type": "code",
   "execution_count": 8,
   "id": "c1e52f81",
   "metadata": {},
   "outputs": [
    {
     "name": "stdout",
     "output_type": "stream",
     "text": [
      "1.5\n",
      "3\n",
      "[0 1 2 3]\n",
      "[0 1 3 6]\n"
     ]
    }
   ],
   "source": [
    "print(y.mean())\n",
    "print(y.argmax())\n",
    "print(y.argsort())\n",
    "print(y.cumsum())"
   ]
  },
  {
   "cell_type": "code",
   "execution_count": 9,
   "id": "98b996b1",
   "metadata": {},
   "outputs": [
    {
     "data": {
      "text/plain": [
       "array([2, 3])"
      ]
     },
     "execution_count": 9,
     "metadata": {},
     "output_type": "execute_result"
    }
   ],
   "source": [
    "y=np.arange(2,4)\n",
    "y"
   ]
  },
  {
   "cell_type": "code",
   "execution_count": 10,
   "id": "6c895156",
   "metadata": {},
   "outputs": [
    {
     "data": {
      "text/plain": [
       "array([2, 4, 6, 8])"
      ]
     },
     "execution_count": 10,
     "metadata": {},
     "output_type": "execute_result"
    }
   ],
   "source": [
    "y=np.arange(2,9,2)\n",
    "y\n"
   ]
  },
  {
   "cell_type": "code",
   "execution_count": 11,
   "id": "c94828ea",
   "metadata": {},
   "outputs": [
    {
     "name": "stdout",
     "output_type": "stream",
     "text": [
      "Enter value : 2\n",
      "Enter value : 2\n",
      "Enter value : 2\n",
      "Enter value : 2\n",
      "[2 2 2 2]\n"
     ]
    }
   ],
   "source": [
    "l=[]\n",
    "for i in range(1,5):\n",
    "    int_1=int(input(\"Enter value : \"))\n",
    "    l.append(int_1)\n",
    "    \n",
    "print(np.array(l))    \n",
    "    "
   ]
  },
  {
   "cell_type": "markdown",
   "id": "ce2e78af",
   "metadata": {},
   "source": [
    "N-Dimensional Array"
   ]
  },
  {
   "cell_type": "code",
   "execution_count": 12,
   "id": "174e80ed",
   "metadata": {},
   "outputs": [
    {
     "name": "stdout",
     "output_type": "stream",
     "text": [
      "[[1 2 3 4]\n",
      " [1 2 3 4]]\n",
      "2\n"
     ]
    }
   ],
   "source": [
    "y = np.array([[1,2,3,4],[1,2,3,4]])\n",
    "print(y)\n",
    "print(y.ndim)"
   ]
  },
  {
   "cell_type": "code",
   "execution_count": 13,
   "id": "e7dc7685",
   "metadata": {},
   "outputs": [
    {
     "name": "stdout",
     "output_type": "stream",
     "text": [
      "[[[[[[[[[[1 2 3 4]]]]]]]]]]\n",
      "10\n"
     ]
    }
   ],
   "source": [
    "\n",
    "a = np.array([1,2,3,4], ndmin=10)\n",
    "print(a)\n",
    "print(a.ndim)"
   ]
  },
  {
   "cell_type": "markdown",
   "id": "54bbdd4d",
   "metadata": {},
   "source": [
    "Zeros Array"
   ]
  },
  {
   "cell_type": "code",
   "execution_count": 14,
   "id": "6320b4c1",
   "metadata": {},
   "outputs": [
    {
     "name": "stdout",
     "output_type": "stream",
     "text": [
      "[0. 0. 0. 0.]\n",
      "\n",
      "[[0. 0. 0.]\n",
      " [0. 0. 0.]]\n",
      "\n",
      "[1.48553242e-311 0.00000000e+000 1.33511969e-306]\n"
     ]
    }
   ],
   "source": [
    "zeros_1 = np.zeros(4)\n",
    "zeros_2 = np.zeros((2,3))\n",
    "Empty_3 = np.empty(3) \n",
    "print(zeros_1)\n",
    "print()\n",
    "print(zeros_2)\n",
    "print()\n",
    "print(Empty_3)\n",
    "\n"
   ]
  },
  {
   "cell_type": "markdown",
   "id": "4443d091",
   "metadata": {},
   "source": [
    "Ones Array"
   ]
  },
  {
   "cell_type": "code",
   "execution_count": 15,
   "id": "e7b34641",
   "metadata": {},
   "outputs": [
    {
     "name": "stdout",
     "output_type": "stream",
     "text": [
      "[1 1 1 1]\n",
      "\n",
      "[[1. 1. 1.]\n",
      " [1. 1. 1.]]\n"
     ]
    }
   ],
   "source": [
    "ones_1 = np.ones(4,dtype=np.int8)\n",
    "# dtype used for data type \n",
    "ones_2 = np.ones((2,3))\n",
    "print(ones_1)\n",
    "print()\n",
    "print(ones_2)"
   ]
  },
  {
   "cell_type": "markdown",
   "id": "130f46c5",
   "metadata": {},
   "source": [
    "Empty Arrray"
   ]
  },
  {
   "cell_type": "code",
   "execution_count": 14,
   "id": "2e5d4aa6",
   "metadata": {},
   "outputs": [
    {
     "name": "stdout",
     "output_type": "stream",
     "text": [
      "[1.17741390e-311 1.17743358e-311 1.17743358e-311 1.17743489e-311]\n"
     ]
    }
   ],
   "source": [
    "Emty_arr = np.empty(4)\n",
    "print(Emty_arr)"
   ]
  },
  {
   "cell_type": "markdown",
   "id": "003d4146",
   "metadata": {},
   "source": [
    "Range"
   ]
  },
  {
   "cell_type": "code",
   "execution_count": 15,
   "id": "c4e53a2e",
   "metadata": {},
   "outputs": [
    {
     "name": "stdout",
     "output_type": "stream",
     "text": [
      "[0 1 2 3]\n"
     ]
    }
   ],
   "source": [
    "narr = np.arange(4)\n",
    "print(narr)"
   ]
  },
  {
   "cell_type": "code",
   "execution_count": 17,
   "id": "073fb74e",
   "metadata": {},
   "outputs": [
    {
     "data": {
      "text/plain": [
       "array([[5, 1, 1, 8, 9],\n",
       "       [4, 9, 2, 9, 6],\n",
       "       [5, 2, 2, 0, 6]])"
      ]
     },
     "execution_count": 17,
     "metadata": {},
     "output_type": "execute_result"
    }
   ],
   "source": [
    "array=np.random.randint(0,10, size=(3,5))\n",
    "array\n",
    "#  return int from 0,10"
   ]
  },
  {
   "cell_type": "code",
   "execution_count": 21,
   "id": "20332b9e",
   "metadata": {},
   "outputs": [
    {
     "data": {
      "text/plain": [
       "array([0.07630829, 0.77991879, 0.43840923, 0.72346518])"
      ]
     },
     "execution_count": 21,
     "metadata": {},
     "output_type": "execute_result"
    }
   ],
   "source": [
    "np.random.seed(7) # used for unchange \n",
    "array1=np.random.rand(4)\n",
    "array1\n",
    "# float from 0 to 1"
   ]
  },
  {
   "cell_type": "code",
   "execution_count": 33,
   "id": "efc4b86b",
   "metadata": {},
   "outputs": [
    {
     "name": "stdout",
     "output_type": "stream",
     "text": [
      "[ 3  6  9 12]\n",
      "[ 3  6  9 12]\n",
      "[-1 -2 -3 -4]\n",
      "[-1 -2 -3 -4]\n",
      "[ 2  8 18 32]\n",
      "[ 2  8 18 32]\n",
      "[0.5 0.5 0.5 0.5]\n",
      "[0.5 0.5 0.5 0.5]\n",
      "[    1    16   729 65536]\n",
      "[ 1  4  9 16]\n",
      "[1 0 0 0]\n"
     ]
    }
   ],
   "source": [
    "c=np.array([1,2,3,4])\n",
    "d=np.array([2,4,6,8])\n",
    "print(c+d)\n",
    "print(np.add(c,d))\n",
    "print(c-d)\n",
    "print(np.subtract(c,d))\n",
    "print(c*d)\n",
    "print(np.multiply(c,d))\n",
    "print(c/d)\n",
    "print(np.divide(c,d))\n",
    "print(c**d)\n",
    "print(np.square(c,d))\n",
    "print(c//d) # floor division"
   ]
  },
  {
   "cell_type": "code",
   "execution_count": 36,
   "id": "a4a6c77a",
   "metadata": {},
   "outputs": [
    {
     "name": "stdout",
     "output_type": "stream",
     "text": [
      "6\n",
      "225 ns ± 1.73 ns per loop (mean ± std. dev. of 7 runs, 1,000,000 loops each)\n",
      "6\n",
      "9.06 µs ± 226 ns per loop (mean ± std. dev. of 7 runs, 100,000 loops each)\n"
     ]
    }
   ],
   "source": [
    "l=[1,2,3]\n",
    "print(sum(l))\n",
    "%timeit sum(l) \n",
    "print(np.sum(l))\n",
    "%timeit np.sum(l)"
   ]
  },
  {
   "cell_type": "code",
   "execution_count": 43,
   "id": "ca0f2204",
   "metadata": {},
   "outputs": [
    {
     "name": "stdout",
     "output_type": "stream",
     "text": [
      "9.0\n",
      "9.25\n",
      "3.0413812651491097\n"
     ]
    }
   ],
   "source": [
    "length=[ 6, 7,10, 12, 13, 4, 8, 12]\n",
    "x =np.mean(length)\n",
    "print(x)\n",
    "y=np.var(length)\n",
    "print(y)\n",
    "z=np.sqrt(y)\n",
    "print(z)"
   ]
  },
  {
   "cell_type": "markdown",
   "id": "1c53c918",
   "metadata": {},
   "source": [
    "## Array Functions"
   ]
  },
  {
   "cell_type": "code",
   "execution_count": 23,
   "id": "28ad890f",
   "metadata": {},
   "outputs": [],
   "source": [
    "import numpy as np\n",
    "x = np.array([2,3,1,56,8,9])\n",
    "y = np.array([2,3,1,12,22,34])"
   ]
  },
  {
   "cell_type": "code",
   "execution_count": 22,
   "id": "1d887995",
   "metadata": {},
   "outputs": [
    {
     "data": {
      "text/plain": [
       "array([0, 1, 2, 3, 4, 5, 6, 7])"
      ]
     },
     "execution_count": 22,
     "metadata": {},
     "output_type": "execute_result"
    }
   ],
   "source": [
    "z = np.concatenate((x,y))\n",
    "# z output of z is array([ 2,  3,  1, 56,  8,  9,  2,  3,  1, 12, 22, 34])\n",
    "z.sort()\n",
    "z"
   ]
  },
  {
   "cell_type": "markdown",
   "id": "7ab7eb9e",
   "metadata": {},
   "source": [
    "Diagonal"
   ]
  },
  {
   "cell_type": "code",
   "execution_count": 26,
   "id": "f81fb946",
   "metadata": {},
   "outputs": [
    {
     "name": "stdout",
     "output_type": "stream",
     "text": [
      "[[1. 0. 0.]\n",
      " [0. 1. 0.]\n",
      " [0. 0. 1.]]\n"
     ]
    }
   ],
   "source": [
    "Diagonal = np.eye(3)\n",
    "print(Diagonal)"
   ]
  },
  {
   "cell_type": "markdown",
   "id": "8a20694f",
   "metadata": {},
   "source": [
    "# Linspace"
   ]
  },
  {
   "cell_type": "code",
   "execution_count": 27,
   "id": "6af3e5da",
   "metadata": {},
   "outputs": [
    {
     "name": "stdout",
     "output_type": "stream",
     "text": [
      "[ 0.  5. 10. 15. 20.]\n"
     ]
    }
   ],
   "source": [
    "lin = np.linspace(0,20,num=5)\n",
    "print(lin)"
   ]
  },
  {
   "cell_type": "code",
   "execution_count": 28,
   "id": "a56fdc6c",
   "metadata": {},
   "outputs": [
    {
     "data": {
      "text/plain": [
       "array([[[ 0,  1,  2,  3],\n",
       "        [ 4,  5,  6,  7],\n",
       "        [ 8,  9, 10, 11]],\n",
       "\n",
       "       [[12, 13, 14, 15],\n",
       "        [16, 17, 18, 19],\n",
       "        [20, 21, 22, 23]]])"
      ]
     },
     "execution_count": 28,
     "metadata": {},
     "output_type": "execute_result"
    }
   ],
   "source": [
    "c = np.arange(24).reshape(2,3,4)\n",
    "c"
   ]
  },
  {
   "cell_type": "code",
   "execution_count": 37,
   "id": "335be16e",
   "metadata": {},
   "outputs": [
    {
     "data": {
      "text/plain": [
       "array([[0, 3, 6],\n",
       "       [1, 4, 7],\n",
       "       [2, 5, 8]])"
      ]
     },
     "execution_count": 37,
     "metadata": {},
     "output_type": "execute_result"
    }
   ],
   "source": [
    "a = np.arange(9)\n",
    "# a.reshape(3,3) output of this\n",
    "# array([[0, 1, 2],\n",
    "#        [3, 4, 5],\n",
    "#        [6, 7, 8]])\n",
    "np.reshape(a,newshape=(3,3),order='F')\n",
    "# order: C means to read/write the elements using C-like index order, F means to read/write \n",
    "#        the elements using Fortran-like index order,A means to read/write the elements in \n",
    "#        Fortran-like index order if a is Fortran contiguous in memory, C-like order otherwise. \n",
    "#        (This is an optional parameter and doesn’t need to be specified.)  "
   ]
  },
  {
   "cell_type": "code",
   "execution_count": 38,
   "id": "89f5dccd",
   "metadata": {},
   "outputs": [
    {
     "data": {
      "text/plain": [
       "array([[1, 1],\n",
       "       [2, 2],\n",
       "       [3, 3],\n",
       "       [4, 4]])"
      ]
     },
     "execution_count": 38,
     "metadata": {},
     "output_type": "execute_result"
    }
   ],
   "source": [
    "a1 = np.array([[1, 1],[ 2, 2]])\n",
    "a2 = np.array([[3, 3],[4, 4]])\n",
    "np.vstack((a1, a2))"
   ]
  },
  {
   "cell_type": "code",
   "execution_count": 39,
   "id": "1e02f0b9",
   "metadata": {},
   "outputs": [
    {
     "data": {
      "text/plain": [
       "array([[1, 1, 3, 3],\n",
       "       [2, 2, 4, 4]])"
      ]
     },
     "execution_count": 39,
     "metadata": {},
     "output_type": "execute_result"
    }
   ],
   "source": [
    "np.hstack((a1, a2))"
   ]
  },
  {
   "cell_type": "code",
   "execution_count": 42,
   "id": "f78de195",
   "metadata": {},
   "outputs": [
    {
     "name": "stdout",
     "output_type": "stream",
     "text": [
      "[11 12 13 14 15 16 17 18 19 20]\n"
     ]
    }
   ],
   "source": [
    "a = np.array([11, 11, 12, 13, 14, 15, 16, 17, 12, 13, 11, 14, 18, 19, 20])\n",
    "print(np.unique(a))"
   ]
  },
  {
   "cell_type": "code",
   "execution_count": 43,
   "id": "025d2f4e",
   "metadata": {},
   "outputs": [
    {
     "data": {
      "text/plain": [
       "array([8, 7, 6, 5, 4, 3, 2, 1])"
      ]
     },
     "execution_count": 43,
     "metadata": {},
     "output_type": "execute_result"
    }
   ],
   "source": [
    "arr = np.array([1, 2, 3, 4, 5, 6, 7, 8])\n",
    "reversed_arr = np.flip(arr)\n",
    "reversed_arr"
   ]
  },
  {
   "cell_type": "code",
   "execution_count": 59,
   "id": "fa3bb2b3",
   "metadata": {},
   "outputs": [
    {
     "data": {
      "text/plain": [
       "array([[ 1,  2,  3,  4],\n",
       "       [ 5,  6,  7,  8],\n",
       "       [ 9, 10, 11, 12]])"
      ]
     },
     "execution_count": 59,
     "metadata": {},
     "output_type": "execute_result"
    }
   ],
   "source": [
    "x = np.array([[1 , 2, 3, 4], [5, 6, 7, 8], [9, 10, 11, 12]])\n",
    "a1 = x.flatten()\n",
    "#  flatten change the multidimensional to 1D array\n",
    "# But can't chanmge parent array\n",
    "a1[0]=98\n",
    "x\n"
   ]
  },
  {
   "cell_type": "code",
   "execution_count": 60,
   "id": "cea4d98b",
   "metadata": {},
   "outputs": [
    {
     "data": {
      "text/plain": [
       "array([98,  2,  3,  4,  5,  6,  7,  8,  9, 10, 11, 12])"
      ]
     },
     "execution_count": 60,
     "metadata": {},
     "output_type": "execute_result"
    }
   ],
   "source": [
    "a1"
   ]
  },
  {
   "cell_type": "code",
   "execution_count": 61,
   "id": "a8cf2ff8",
   "metadata": {},
   "outputs": [
    {
     "data": {
      "text/plain": [
       "array([[98,  2,  3,  4],\n",
       "       [ 5,  6,  7,  8],\n",
       "       [ 9, 10, 11, 12]])"
      ]
     },
     "execution_count": 61,
     "metadata": {},
     "output_type": "execute_result"
    }
   ],
   "source": [
    "b = np.array([[1 , 2, 3, 4], [5, 6, 7, 8], [9, 10, 11, 12]])\n",
    "c = b.ravel()\n",
    "c[0]=98\n",
    "#   ravel() change the multidimensional to 1D array\n",
    "#   But change parent Array \n",
    "b"
   ]
  },
  {
   "cell_type": "code",
   "execution_count": 62,
   "id": "85d21e47",
   "metadata": {},
   "outputs": [
    {
     "data": {
      "text/plain": [
       "array([98,  2,  3,  4,  5,  6,  7,  8,  9, 10, 11, 12])"
      ]
     },
     "execution_count": 62,
     "metadata": {},
     "output_type": "execute_result"
    }
   ],
   "source": [
    "c"
   ]
  },
  {
   "cell_type": "markdown",
   "id": "429f29b4",
   "metadata": {},
   "source": [
    "#  rand"
   ]
  },
  {
   "cell_type": "code",
   "execution_count": 63,
   "id": "41ba211a",
   "metadata": {},
   "outputs": [
    {
     "name": "stdout",
     "output_type": "stream",
     "text": [
      "[0.61429424 0.37391895 0.92535446 0.57542742 0.82353557]\n"
     ]
    }
   ],
   "source": [
    "b = np.random.rand(5)\n",
    "print(b)\n",
    "# create array b/w 0 and 1"
   ]
  },
  {
   "cell_type": "markdown",
   "id": "592cb0be",
   "metadata": {},
   "source": [
    "#  randn"
   ]
  },
  {
   "cell_type": "code",
   "execution_count": 64,
   "id": "a2f349e1",
   "metadata": {},
   "outputs": [
    {
     "name": "stdout",
     "output_type": "stream",
     "text": [
      "[ 0.85346096  0.66279645 -0.41799205 -0.67737462  0.17068726]\n"
     ]
    }
   ],
   "source": [
    "c = np.random.randn(5)\n",
    "print(c)\n",
    "#create array closely zero as (-ve,+ve)"
   ]
  },
  {
   "cell_type": "markdown",
   "id": "61855ba6",
   "metadata": {},
   "source": [
    "#  ranf"
   ]
  },
  {
   "cell_type": "code",
   "execution_count": 65,
   "id": "01f1c1ca",
   "metadata": {},
   "outputs": [
    {
     "name": "stdout",
     "output_type": "stream",
     "text": [
      "[0.71478298 0.09955261 0.32651776 0.45815021 0.88106027]\n"
     ]
    }
   ],
   "source": [
    "d = np.random.ranf(5)\n",
    "print(d)\n",
    "# random sampling"
   ]
  },
  {
   "cell_type": "markdown",
   "id": "c44abd89",
   "metadata": {},
   "source": [
    "#  randint"
   ]
  },
  {
   "cell_type": "code",
   "execution_count": 66,
   "id": "cea41e0b",
   "metadata": {},
   "outputs": [
    {
     "name": "stdout",
     "output_type": "stream",
     "text": [
      "[ 7 11  9  9  9]\n"
     ]
    }
   ],
   "source": [
    "e = np.random.randint(5,20,5)\n",
    "print(e)\n",
    "# (min,max,step)\n",
    "# create @ given range "
   ]
  },
  {
   "cell_type": "markdown",
   "id": "50e9f5b3",
   "metadata": {},
   "source": [
    "#  **DATA TYPE**"
   ]
  },
  {
   "cell_type": "code",
   "execution_count": 2,
   "id": "8525008d",
   "metadata": {},
   "outputs": [
    {
     "name": "stdout",
     "output_type": "stream",
     "text": [
      "int32\n"
     ]
    }
   ],
   "source": [
    "ad = np.array([1,2,3,4,565,6])\n",
    "print(ad.dtype)"
   ]
  },
  {
   "cell_type": "markdown",
   "id": "e99335c2",
   "metadata": {},
   "source": [
    "Arthematic "
   ]
  },
  {
   "cell_type": "code",
   "execution_count": 3,
   "id": "20fe0575",
   "metadata": {},
   "outputs": [
    {
     "name": "stdout",
     "output_type": "stream",
     "text": [
      "[-2 -1  0  1]\n"
     ]
    }
   ],
   "source": [
    "ab = np.array([1,2,3,4])\n",
    "ss = ab - 3\n",
    "print(ss)"
   ]
  },
  {
   "cell_type": "code",
   "execution_count": 4,
   "id": "c8f2a250",
   "metadata": {},
   "outputs": [
    {
     "name": "stdout",
     "output_type": "stream",
     "text": [
      "[3 5 7 9]\n"
     ]
    }
   ],
   "source": [
    "ab = np.array([1,2,3,4])\n",
    "ac = np.array([2,3,4,5])\n",
    "ad = np.add(ab,ac)\n",
    "print(ad)"
   ]
  },
  {
   "cell_type": "code",
   "execution_count": 5,
   "id": "82bd5b77",
   "metadata": {},
   "outputs": [
    {
     "name": "stdout",
     "output_type": "stream",
     "text": [
      "MIN : 2 0\n",
      "Max : 67 4\n",
      "Cummulative sum : [ 2  5  9 14 81 88]\n",
      "SinQ : 0.8939966636005579\n",
      "CosQ : -0.5984600690578582\n"
     ]
    }
   ],
   "source": [
    "import numpy as  np\n",
    "d = np.array([2,3,4,5,67,7,])\n",
    "print(\"MIN :\",np.min(d),np.argmin(d))\n",
    "print(\"Max :\",np.max(d),np.argmax(d))\n",
    "print(\"Cummulative sum :\",np.cumsum(d))\n",
    "print(\"SinQ :\",np.sin(90))\n",
    "print(\"CosQ :\",np.cos(180))\n"
   ]
  },
  {
   "cell_type": "code",
   "execution_count": 6,
   "id": "be2503d2",
   "metadata": {},
   "outputs": [
    {
     "name": "stdout",
     "output_type": "stream",
     "text": [
      "[2 1 4 7]\n",
      "[2 1]\n"
     ]
    }
   ],
   "source": [
    "b = np.array([[2,3,5,7],[2,1,4,57]])\n",
    "print(np.min(b,axis=0))\n",
    "# axis zero as col compare\n",
    "print(np.min(b,axis=1))"
   ]
  },
  {
   "cell_type": "markdown",
   "id": "743f8716",
   "metadata": {},
   "source": [
    "#  Search"
   ]
  },
  {
   "cell_type": "code",
   "execution_count": null,
   "id": "b7a2f417",
   "metadata": {},
   "outputs": [],
   "source": [
    "import numpy as np\n",
    "x = np.array([1,2,3,4,5,6,7,876,5,4,5])\n",
    "y = np.where(x == 5)\n",
    "print(y)"
   ]
  },
  {
   "cell_type": "code",
   "execution_count": 7,
   "id": "f8a12363",
   "metadata": {},
   "outputs": [
    {
     "name": "stdout",
     "output_type": "stream",
     "text": [
      "[  1   2   3   4   4   5   5   5   6   7 876]\n"
     ]
    }
   ],
   "source": [
    "import numpy as np\n",
    "x = np.array([1,2,3,4,5,6,7,876,5,4,5])\n",
    "y = np.sort(x)\n",
    "print(y)"
   ]
  },
  {
   "cell_type": "markdown",
   "id": "447d63b1",
   "metadata": {},
   "source": [
    "#  Matrix "
   ]
  },
  {
   "cell_type": "code",
   "execution_count": 8,
   "id": "de5cf84e",
   "metadata": {},
   "outputs": [
    {
     "name": "stdout",
     "output_type": "stream",
     "text": [
      "[[2 6]\n",
      " [4 8]]\n"
     ]
    }
   ],
   "source": [
    "import numpy as np\n",
    "x = np.matrix([[1,3],[2,4]])\n",
    "y = np.matrix([[1,3],[2,4]])\n",
    "print(x+y)\n"
   ]
  },
  {
   "cell_type": "markdown",
   "id": "b6fa2146",
   "metadata": {},
   "source": [
    "#    Multiplication"
   ]
  },
  {
   "cell_type": "code",
   "execution_count": 9,
   "id": "68067b2c",
   "metadata": {},
   "outputs": [
    {
     "name": "stdout",
     "output_type": "stream",
     "text": [
      "[[ 7 15]\n",
      " [10 22]]\n"
     ]
    }
   ],
   "source": [
    "import numpy as np\n",
    "x = np.matrix([[1,3],[2,4]])\n",
    "y = np.matrix([[1,3],[2,4]])\n",
    "print(x.dot(y))"
   ]
  },
  {
   "cell_type": "markdown",
   "id": "d7b4b201",
   "metadata": {},
   "source": [
    "#  Transpore"
   ]
  },
  {
   "cell_type": "code",
   "execution_count": 11,
   "id": "28560362",
   "metadata": {},
   "outputs": [
    {
     "name": "stdout",
     "output_type": "stream",
     "text": [
      "[[ 1  2 34]\n",
      " [ 3  4 35]]\n"
     ]
    }
   ],
   "source": [
    "import numpy as np\n",
    "x = np.matrix([[1,3],[2,4],[34,35]])\n",
    "print(np.transpose(x))"
   ]
  },
  {
   "cell_type": "markdown",
   "id": "540f878a",
   "metadata": {},
   "source": [
    "#  Inverse of matrix"
   ]
  },
  {
   "cell_type": "code",
   "execution_count": 12,
   "id": "52b2cf6e",
   "metadata": {},
   "outputs": [
    {
     "name": "stdout",
     "output_type": "stream",
     "text": [
      "[[-2.   1.5]\n",
      " [ 1.  -0.5]]\n"
     ]
    }
   ],
   "source": [
    "import numpy as np\n",
    "x = np.matrix([[1,3],[2,4]])\n",
    "print(np.linalg.inv(x))"
   ]
  },
  {
   "cell_type": "markdown",
   "id": "8e65b2c0",
   "metadata": {},
   "source": [
    "#  Power of Matrix"
   ]
  },
  {
   "cell_type": "code",
   "execution_count": 13,
   "id": "677548f8",
   "metadata": {},
   "outputs": [
    {
     "name": "stdout",
     "output_type": "stream",
     "text": [
      "[[ 7 15]\n",
      " [10 22]]\n"
     ]
    }
   ],
   "source": [
    "import numpy as np\n",
    "x = np.matrix([[1,3],[2,4]])\n",
    "print(np.linalg.matrix_power(x,2))"
   ]
  },
  {
   "cell_type": "markdown",
   "id": "20201c94",
   "metadata": {},
   "source": [
    "# Determinate OF THE MATRIX"
   ]
  },
  {
   "cell_type": "code",
   "execution_count": 14,
   "id": "9f9d3415",
   "metadata": {},
   "outputs": [
    {
     "name": "stdout",
     "output_type": "stream",
     "text": [
      "-2.0\n"
     ]
    }
   ],
   "source": [
    "import numpy as np\n",
    "x = np.matrix([[1,3],[2,4]])\n",
    "print(np.linalg.det(x))"
   ]
  },
  {
   "cell_type": "code",
   "execution_count": 15,
   "id": "d3abb3cd",
   "metadata": {},
   "outputs": [
    {
     "name": "stdout",
     "output_type": "stream",
     "text": [
      "None\n",
      "[1 2 3 4 5]\n"
     ]
    }
   ],
   "source": [
    "import numpy as np\n",
    "\n",
    "arr = np.array([1, 2, 3, 4, 5])\n",
    "\n",
    "x = arr.copy()\n",
    "y = arr.view()\n",
    "\n",
    "print(x.base)\n",
    "print(y.base)"
   ]
  },
  {
   "cell_type": "code",
   "execution_count": 16,
   "id": "e3e19209",
   "metadata": {},
   "outputs": [
    {
     "name": "stdout",
     "output_type": "stream",
     "text": [
      "[[[1]\n",
      "  [2]\n",
      "  [3]\n",
      "  [4]]\n",
      "\n",
      " [[5]\n",
      "  [6]\n",
      "  [7]\n",
      "  [8]]]\n"
     ]
    }
   ],
   "source": [
    "import numpy as np\n",
    "arr = np.array([1, 2, 3, 4, 5, 6, 7, 8])\n",
    "newarr = arr.reshape(2, 4,-1)\n",
    "print(newarr)"
   ]
  },
  {
   "cell_type": "code",
   "execution_count": 17,
   "id": "74b26732",
   "metadata": {},
   "outputs": [
    {
     "name": "stdout",
     "output_type": "stream",
     "text": [
      "[[[1 2]\n",
      "  [3 4]]\n",
      "\n",
      " [[5 6]\n",
      "  [7 8]]]\n"
     ]
    }
   ],
   "source": [
    "import numpy as np\n",
    "\n",
    "arr = np.array([1, 2, 3, 4, 5, 6, 7, 8])\n",
    "\n",
    "newarr = arr.reshape(2, 2, -1)\n",
    "\n",
    "print(newarr)"
   ]
  },
  {
   "cell_type": "code",
   "execution_count": 75,
   "id": "5e5e689e",
   "metadata": {},
   "outputs": [
    {
     "name": "stdout",
     "output_type": "stream",
     "text": [
      "1\n",
      "2\n",
      "3\n",
      "4\n",
      "5\n",
      "6\n",
      "7\n",
      "8\n"
     ]
    }
   ],
   "source": [
    "import numpy as np\n",
    "arr = np.array([[[1, 2], [3, 4]], [[5, 6], [7, 8]]])\n",
    "for x in np.nditer(arr):\n",
    "    print(x)"
   ]
  }
 ],
 "metadata": {
  "kernelspec": {
   "display_name": "Python 3 (ipykernel)",
   "language": "python",
   "name": "python3"
  },
  "language_info": {
   "codemirror_mode": {
    "name": "ipython",
    "version": 3
   },
   "file_extension": ".py",
   "mimetype": "text/x-python",
   "name": "python",
   "nbconvert_exporter": "python",
   "pygments_lexer": "ipython3",
   "version": "3.9.12"
  }
 },
 "nbformat": 4,
 "nbformat_minor": 5
}
