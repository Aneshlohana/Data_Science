{
 "cells": [
  {
   "cell_type": "markdown",
   "id": "26dddbdb",
   "metadata": {},
   "source": [
    "## Reseach Design"
   ]
  },
  {
   "cell_type": "markdown",
   "id": "adeee3e9",
   "metadata": {},
   "source": [
    "### CRD\n",
    "- Complelely Randomized Design \n",
    "- Each experimental unit is randomly assigned to on of the treatment . \n",
    "- Example : 20 dogs du=ivide 10 by 10 and assign food1 and food2 randomly then compare food1 and food2 . \n",
    "### RCBD\n",
    "- Randomized complete block Design.\n",
    "- helps better if we have lot of factors.  \n",
    "- Example 20 men means Male and female then separate the group of male and female FOOD1 and Food2 assigned.\n",
    "### LSD\n",
    "- Latin square  Design.\n",
    "- Helpfull when less resources.\n",
    "- similiar to square Rows == Cols.\n",
    "- G1---Food week wise , G2---Food week wise , G3---Food week wise then compare.  "
   ]
  },
  {
   "cell_type": "code",
   "execution_count": null,
   "id": "29b6ce48",
   "metadata": {},
   "outputs": [],
   "source": []
  }
 ],
 "metadata": {
  "kernelspec": {
   "display_name": "Python 3 (ipykernel)",
   "language": "python",
   "name": "python3"
  },
  "language_info": {
   "codemirror_mode": {
    "name": "ipython",
    "version": 3
   },
   "file_extension": ".py",
   "mimetype": "text/x-python",
   "name": "python",
   "nbconvert_exporter": "python",
   "pygments_lexer": "ipython3",
   "version": "3.9.12"
  }
 },
 "nbformat": 4,
 "nbformat_minor": 5
}
