{
 "cells": [
  {
   "cell_type": "code",
   "execution_count": null,
   "id": "ec72facc",
   "metadata": {},
   "outputs": [],
   "source": [
    "class Employee:\n",
    "    def set_Name(self,name):\n",
    "        self.name = name\n",
    "        \n",
    "    def show(self):\n",
    "        print(self.name)\n",
    "E1 = Employee()\n",
    "E1.set_Name('Anesh')\n",
    "E1.show()\n"
   ]
  },
  {
   "cell_type": "code",
   "execution_count": null,
   "id": "4d2aea26",
   "metadata": {},
   "outputs": [],
   "source": [
    "class Jani:\n",
    "    pass\n",
    "# pss keyword use to create empty class\n",
    "c1 = Jani()\n",
    "c2 = Jani()"
   ]
  },
  {
   "cell_type": "code",
   "execution_count": null,
   "id": "9bcf889b",
   "metadata": {},
   "outputs": [],
   "source": [
    "class cute:\n",
    "    \n",
    "    def identity(self,name):\n",
    "        print('My name is ', name)\n",
    "    \n",
    "c1 = cute()\n",
    "c1.identity('Anesh_kumar')"
   ]
  },
  {
   "cell_type": "code",
   "execution_count": null,
   "id": "1f34f9f9",
   "metadata": {},
   "outputs": [],
   "source": [
    "class Geo:\n",
    "#     constructor\n",
    "    def __init__(self,name): \n",
    "        self.name=name\n",
    "        print('HEllo ')\n",
    "    \n",
    "c1 = Geo('Deewan')\n",
    "print(c1.name)"
   ]
  },
  {
   "cell_type": "code",
   "execution_count": null,
   "id": "82a04a9e",
   "metadata": {},
   "outputs": [],
   "source": [
    "class A:\n",
    "    pass\n",
    "\n",
    "# class B inherited from A\n",
    "class B(A):\n",
    "    pass"
   ]
  },
  {
   "cell_type": "code",
   "execution_count": null,
   "id": "d8495230",
   "metadata": {},
   "outputs": [],
   "source": [
    "class ABC:\n",
    "    \n",
    "    def __init__(self):\n",
    "        print(\"Constructor of ABC mean Parent class\")\n",
    "        \n",
    "    def show(self):\n",
    "        print(\"Hello parent\")\n",
    "\n",
    "\n",
    "class DEF(ABC):\n",
    "    def __init__(self):\n",
    "#       way to call constructor of parent class\n",
    "        ABC.__init__(self)\n",
    "        print(\"Constructor Of DEF mean Child class\")\n",
    "        ABC.show(self)\n",
    "    \n",
    "D1 = DEF()   "
   ]
  },
  {
   "cell_type": "code",
   "execution_count": null,
   "id": "cf3ac139",
   "metadata": {},
   "outputs": [],
   "source": [
    "class Equal:\n",
    "    def __init__(self,name , salary):\n",
    "        self.name , self.salary = name , salary\n",
    "        \n",
    "cust1 = Equal('anesh',23)\n",
    "cust2 = Equal('anesh',23)\n",
    "cust1 == cust2\n"
   ]
  },
  {
   "cell_type": "code",
   "execution_count": null,
   "id": "e0ac45a0",
   "metadata": {},
   "outputs": [],
   "source": [
    "class Equal:\n",
    "    def __init__(self,name , salary):\n",
    "        self.name , self.salary = name , salary\n",
    "        \n",
    "    def __eq__(self,other):\n",
    "        print('__eq__ s called')\n",
    "        return (self.name == other.name) and (self.salary == other.salary)\n",
    "        \n",
    "cust1 = Equal('anesh',23)\n",
    "cust2 = Equal('anesh',23)\n",
    "cust1 == cust2  \n",
    "# /----> will call __eq__ function\n",
    "# __eq__() ---> ==\n",
    "# __ne__() ---> !=\n",
    "# __ge__() ---> >=\n",
    "# __le__() ---> <=\n",
    "# __gt__() ---> >\n",
    "# __lt__() ---> <"
   ]
  },
  {
   "cell_type": "code",
   "execution_count": null,
   "id": "5d14371b",
   "metadata": {},
   "outputs": [],
   "source": [
    "# Modifier specifier \n",
    "# _() --- protected\n",
    "# __() --- private\n",
    "# () --- by default all are public"
   ]
  }
 ],
 "metadata": {
  "kernelspec": {
   "display_name": "Python 3 (ipykernel)",
   "language": "python",
   "name": "python3"
  },
  "language_info": {
   "codemirror_mode": {
    "name": "ipython",
    "version": 3
   },
   "file_extension": ".py",
   "mimetype": "text/x-python",
   "name": "python",
   "nbconvert_exporter": "python",
   "pygments_lexer": "ipython3",
   "version": "3.9.12"
  }
 },
 "nbformat": 4,
 "nbformat_minor": 5
}
